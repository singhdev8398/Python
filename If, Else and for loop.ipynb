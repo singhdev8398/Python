{
 "cells": [
  {
   "cell_type": "markdown",
   "id": "5f77b1f5",
   "metadata": {},
   "source": [
    "# IF,elif and else statements"
   ]
  },
  {
   "cell_type": "code",
   "execution_count": 1,
   "id": "ae2a871e",
   "metadata": {},
   "outputs": [],
   "source": [
    "a=10"
   ]
  },
  {
   "cell_type": "code",
   "execution_count": 2,
   "id": "8cb45bcd",
   "metadata": {},
   "outputs": [
    {
     "name": "stdout",
     "output_type": "stream",
     "text": [
      " my name is devendra singh\n"
     ]
    }
   ],
   "source": [
    "if a<15:\n",
    "    print(\" my name is devendra singh\")"
   ]
  },
  {
   "cell_type": "code",
   "execution_count": 3,
   "id": "3cb6b108",
   "metadata": {},
   "outputs": [
    {
     "data": {
      "text/plain": [
       "True"
      ]
     },
     "execution_count": 3,
     "metadata": {},
     "output_type": "execute_result"
    }
   ],
   "source": [
    "a<15"
   ]
  },
  {
   "cell_type": "code",
   "execution_count": 4,
   "id": "9b7328e3",
   "metadata": {},
   "outputs": [],
   "source": [
    "if a<15:\n",
    "    pass"
   ]
  },
  {
   "cell_type": "code",
   "execution_count": 5,
   "id": "1acae58a",
   "metadata": {},
   "outputs": [],
   "source": [
    "if 24<15:                     # in this case nothing return \n",
    "    print(\" my name is devendra singh\")"
   ]
  },
  {
   "cell_type": "code",
   "execution_count": 6,
   "id": "518f1b50",
   "metadata": {},
   "outputs": [
    {
     "data": {
      "text/plain": [
       "False"
      ]
     },
     "execution_count": 6,
     "metadata": {},
     "output_type": "execute_result"
    }
   ],
   "source": [
    "24<15"
   ]
  },
  {
   "cell_type": "code",
   "execution_count": 7,
   "id": "ba4cf838",
   "metadata": {},
   "outputs": [
    {
     "name": "stdout",
     "output_type": "stream",
     "text": [
      "if statements is wrong\n"
     ]
    }
   ],
   "source": [
    "if 10<3:\n",
    "    print(\"10 is lesser then 3\")\n",
    "else:\n",
    "    print(\"if statements is wrong\")"
   ]
  },
  {
   "cell_type": "code",
   "execution_count": 8,
   "id": "f287fac3",
   "metadata": {},
   "outputs": [
    {
     "name": "stdout",
     "output_type": "stream",
     "text": [
      "5 is lesser then 10\n"
     ]
    }
   ],
   "source": [
    "if 5<10:\n",
    "     print(\"5 is lesser then 10\")\n",
    "else:\n",
    "    print(\"if statements is wrong\")\n",
    "    \n",
    "    \n",
    "    "
   ]
  },
  {
   "cell_type": "code",
   "execution_count": 9,
   "id": "b4ceb73f",
   "metadata": {},
   "outputs": [
    {
     "name": "stdout",
     "output_type": "stream",
     "text": [
      "i won't be able to buy anything\n"
     ]
    }
   ],
   "source": [
    "income=100\n",
    "if income<50:\n",
    "    print(\" i will able to buy phone\")\n",
    "elif income<70:\n",
    "    print(\"i will able to buy car\")\n",
    "elif income<90:\n",
    "    print(\"i will able to rant a house \")\n",
    "else:\n",
    "    print(\"i won't be able to buy anything\")\n",
    "    "
   ]
  },
  {
   "cell_type": "code",
   "execution_count": 10,
   "id": "d0d47f3d",
   "metadata": {},
   "outputs": [
    {
     "name": "stdout",
     "output_type": "stream",
     "text": [
      "10\n",
      " i will able to buy phone\n"
     ]
    }
   ],
   "source": [
    "income=int(input())\n",
    "if income<50:\n",
    "    print(\" i will able to buy phone\")\n",
    "elif income<70:\n",
    "    print(\"i will able to buy car\")\n",
    "elif income<90:\n",
    "    print(\"i will able to rant a house \")\n",
    "else:\n",
    "    print(\"i won't be able to buy anything\")"
   ]
  },
  {
   "cell_type": "code",
   "execution_count": 11,
   "id": "c5d257fa",
   "metadata": {},
   "outputs": [
    {
     "name": "stdout",
     "output_type": "stream",
     "text": [
      "4565\n",
      "discount will be 228.25\n"
     ]
    }
   ],
   "source": [
    "total_price=int(input())\n",
    "if total_price>20000:\n",
    "    discount=total_price*.20\n",
    "    print(\"discount will be\",discount)\n",
    "elif total_price<=7000:\n",
    "    discount= total_price*.05\n",
    "    print(\"discount will be\",discount)\n",
    "else:\n",
    "    print(\"wont be able to give any discount\")"
   ]
  },
  {
   "cell_type": "code",
   "execution_count": 12,
   "id": "2a1fc96c",
   "metadata": {},
   "outputs": [
    {
     "name": "stdout",
     "output_type": "stream",
     "text": [
      "you will be able to get a disount of 5%\n",
      "you will be able to get one neuron with this amount -49350.00000000001\n"
     ]
    }
   ],
   "source": [
    "coup=\"Devendra\"\n",
    "if coup==\"Devendra\":\n",
    "    print(\"you will be able to get a disount of 5%\")\n",
    "    paid_amount=7000-7000*8.05\n",
    "    print(\"you will be able to get one neuron with this amount\",paid_amount)\n",
    "else: \n",
    "    print(\"kindly use a valid coupoun code\")"
   ]
  },
  {
   "cell_type": "code",
   "execution_count": 13,
   "id": "1797c003",
   "metadata": {},
   "outputs": [
    {
     "data": {
      "text/plain": [
       "True"
      ]
     },
     "execution_count": 13,
     "metadata": {},
     "output_type": "execute_result"
    }
   ],
   "source": [
    "\"dev\"==\"dev\""
   ]
  },
  {
   "cell_type": "code",
   "execution_count": 15,
   "id": "9e7eb1af",
   "metadata": {},
   "outputs": [
    {
     "name": "stdout",
     "output_type": "stream",
     "text": [
      "1\n",
      "it will be difficult\n"
     ]
    }
   ],
   "source": [
    "study_hour=int(input())\n",
    "if study_hour<1:\n",
    "    print(\"it may take 8,9 month of time to make a transition\")\n",
    "elif study_hour<4 and study_hour>1:\n",
    "    print(\"it may take 6 month for transition\")\n",
    "elif study_hour>10:\n",
    "    print(\"it will take 3 month of time for transition\")\n",
    "else:\n",
    "    print(\"it will be difficult\")"
   ]
  },
  {
   "cell_type": "code",
   "execution_count": 16,
   "id": "f8b26d6b",
   "metadata": {},
   "outputs": [
    {
     "name": "stdout",
     "output_type": "stream",
     "text": [
      "1.5\n",
      "succeed\n"
     ]
    }
   ],
   "source": [
    "study=float(input())\n",
    "if study<1 and study>0.5:\n",
    "    print(\"you may succeed\")\n",
    "elif study<6 and study>1:\n",
    "    print(\"succeed\")\n",
    "else:\n",
    "    print(\"fain\")"
   ]
  },
  {
   "cell_type": "code",
   "execution_count": 17,
   "id": "8d5f71b9",
   "metadata": {},
   "outputs": [
    {
     "name": "stdout",
     "output_type": "stream",
     "text": [
      "valid\n"
     ]
    }
   ],
   "source": [
    "a=9\n",
    "if a==9:print(\"valid\")\n"
   ]
  },
  {
   "cell_type": "markdown",
   "id": "835ab70e",
   "metadata": {},
   "source": [
    "# Nested if else condition"
   ]
  },
  {
   "cell_type": "code",
   "execution_count": 18,
   "id": "11fc4af3",
   "metadata": {},
   "outputs": [
    {
     "name": "stdout",
     "output_type": "stream",
     "text": [
      "\n",
      "oneneuron\n",
      "DSA\n",
      "connect me your team\n"
     ]
    }
   ],
   "source": [
    "s=input()\n",
    "course=input()\n",
    "service=input()\n",
    "if s==\"oneneuron\":\n",
    "    if course==\"DSA\":\n",
    "        print(\"yes its available under one neuron and in multiple mode for job preparation and core course\")\n",
    "    elif course==\"Blockchain\":\n",
    "        print(\"this is not available as of now, kindly raise your demand and it will bwe fulfill in 60 days\")\n",
    "    elif course==\"FDSA\":\n",
    "        print(\"yes its available, you an start learning\")\n",
    "    else:\n",
    "        print(\"this course is not available kindly raise your demand\")\n",
    "elif s==\"oneneuronservice\":\n",
    "    if service==\"courserequest\":\n",
    "        print(\"note\")\n",
    "    elif service==\"module\":\n",
    "        print(\"note note\")\n",
    "    elif service==\"doubt\":\n",
    "        print(\"note note note\")\n",
    "    else:\n",
    "        print(\"note me now\")\n",
    "else:\n",
    "    print(\"connect me your team\")"
   ]
  },
  {
   "cell_type": "markdown",
   "id": "66c09752",
   "metadata": {},
   "source": [
    "# For Loop Statements"
   ]
  },
  {
   "cell_type": "code",
   "execution_count": 19,
   "id": "7f6d53ac",
   "metadata": {},
   "outputs": [
    {
     "name": "stdout",
     "output_type": "stream",
     "text": [
      "1\n",
      "2\n",
      "3\n",
      "4\n",
      "5\n",
      "6\n",
      "7\n"
     ]
    }
   ],
   "source": [
    "l=[1,2,3,4,5,6,7]\n",
    "for i in l:\n",
    "    print(i)"
   ]
  },
  {
   "cell_type": "code",
   "execution_count": 20,
   "id": "7b5d49ae",
   "metadata": {},
   "outputs": [
    {
     "name": "stdout",
     "output_type": "stream",
     "text": [
      "D\n",
      "e\n",
      "v\n",
      "e\n",
      "n\n",
      "d\n",
      "r\n",
      "a\n"
     ]
    }
   ],
   "source": [
    "d=\"Devendra\"\n",
    "for i in d:\n",
    "    print(i)"
   ]
  },
  {
   "cell_type": "code",
   "execution_count": 21,
   "id": "de234513",
   "metadata": {},
   "outputs": [
    {
     "name": "stdout",
     "output_type": "stream",
     "text": [
      "S\n",
      "i\n",
      "n\n",
      "g\n",
      "h\n"
     ]
    }
   ],
   "source": [
    "for i in 'Singh':\n",
    "    print(i)"
   ]
  },
  {
   "cell_type": "code",
   "execution_count": 22,
   "id": "3870a674",
   "metadata": {},
   "outputs": [],
   "source": [
    "t=(1,2,3,4,5,6)"
   ]
  },
  {
   "cell_type": "code",
   "execution_count": 23,
   "id": "97b7b8a5",
   "metadata": {},
   "outputs": [
    {
     "name": "stdout",
     "output_type": "stream",
     "text": [
      "1\n",
      "2\n",
      "3\n",
      "4\n",
      "5\n",
      "6\n"
     ]
    }
   ],
   "source": [
    "for i in t:\n",
    "    print(i)"
   ]
  },
  {
   "cell_type": "code",
   "execution_count": 24,
   "id": "02734038",
   "metadata": {},
   "outputs": [
    {
     "name": "stdout",
     "output_type": "stream",
     "text": [
      "<class 'int'> type of  1\n",
      "<class 'int'> type of  4\n",
      "<class 'int'> type of  5\n",
      "<class 'int'> type of  6\n",
      "<class 'float'> type of  4.7\n",
      "<class 'str'> type of  dev\n"
     ]
    }
   ],
   "source": [
    "l=[1,4,5,6,4.7,\"dev\"]\n",
    "for i in l:\n",
    "    print(type(i),\"type of \",i)"
   ]
  },
  {
   "cell_type": "code",
   "execution_count": 25,
   "id": "1ffb0aec",
   "metadata": {},
   "outputs": [
    {
     "name": "stdout",
     "output_type": "stream",
     "text": [
      "5\n",
      "8\n",
      "9\n",
      "10\n",
      "8.7\n"
     ]
    }
   ],
   "source": [
    "l=[1,4,5,6,4.7]\n",
    "l1=[]\n",
    "for i in l:\n",
    "    print(i+4)\n",
    "    l1.append(i+4)\n",
    "    "
   ]
  },
  {
   "cell_type": "code",
   "execution_count": 26,
   "id": "8a366e5a",
   "metadata": {},
   "outputs": [
    {
     "data": {
      "text/plain": [
       "[5, 8, 9, 10, 8.7]"
      ]
     },
     "execution_count": 26,
     "metadata": {},
     "output_type": "execute_result"
    }
   ],
   "source": [
    "l1\n"
   ]
  },
  {
   "cell_type": "code",
   "execution_count": 27,
   "id": "85ea1bb3",
   "metadata": {},
   "outputs": [],
   "source": [
    "l=[2,45,78,12,\"dev\",6+7j,[56,67,78]]"
   ]
  },
  {
   "cell_type": "code",
   "execution_count": 34,
   "id": "e63f044f",
   "metadata": {},
   "outputs": [
    {
     "name": "stdout",
     "output_type": "stream",
     "text": [
      "2\n",
      "45\n",
      "78\n",
      "12\n",
      "56\n",
      "67\n",
      "78\n"
     ]
    }
   ],
   "source": [
    "l1=[]\n",
    "for i in l:\n",
    "    if type(i)==int:\n",
    "        print(i)\n",
    "    elif type(i)==list:\n",
    "        for j in i:\n",
    "            if type(j)==int:\n",
    "                print(j)"
   ]
  },
  {
   "cell_type": "code",
   "execution_count": 59,
   "id": "98502d0f",
   "metadata": {},
   "outputs": [],
   "source": [
    "l=[2,45,78,12,12,12,12,12,\"dev\",\"kumar\",6+7j,[56,67,78,\"singh\"]]\n",
    "\n",
    "##q1. try to print index of all the elements\n",
    "#q2. try to extract all the list or charecter if elemnets is string\n",
    "#q3. try to return a list after dooing a square of all the int elements "
   ]
  },
  {
   "cell_type": "code",
   "execution_count": 60,
   "id": "ce9e7790",
   "metadata": {},
   "outputs": [
    {
     "name": "stdout",
     "output_type": "stream",
     "text": [
      "index 0 for ana elements 2\n",
      "index 1 for ana elements 45\n",
      "index 2 for ana elements 78\n",
      "index 3 for ana elements 12\n",
      "index 4 for ana elements 12\n",
      "index 5 for ana elements 12\n",
      "index 6 for ana elements 12\n",
      "index 7 for ana elements 12\n",
      "index 8 for ana elements dev\n",
      "index 9 for ana elements kumar\n",
      "index 10 for ana elements (6+7j)\n",
      "index 11 for ana elements [56, 67, 78, 'singh']\n"
     ]
    }
   ],
   "source": [
    "#q1\n",
    "for i in range(len(l)):\n",
    "    print(\"index\",i,\"for ana elements\",l[i])\n",
    "    "
   ]
  },
  {
   "cell_type": "code",
   "execution_count": 61,
   "id": "a3481ea3",
   "metadata": {},
   "outputs": [
    {
     "name": "stdout",
     "output_type": "stream",
     "text": [
      "(0, 2)\n",
      "(1, 45)\n",
      "(2, 78)\n",
      "(3, 12)\n",
      "(4, 12)\n",
      "(5, 12)\n",
      "(6, 12)\n",
      "(7, 12)\n",
      "(8, 'dev')\n",
      "(9, 'kumar')\n",
      "(10, (6+7j))\n",
      "(11, [56, 67, 78, 'singh'])\n"
     ]
    }
   ],
   "source": [
    "for i in enumerate(l):\n",
    "    print(i)\n",
    "    "
   ]
  },
  {
   "cell_type": "code",
   "execution_count": 69,
   "id": "22978b42",
   "metadata": {},
   "outputs": [
    {
     "name": "stdout",
     "output_type": "stream",
     "text": [
      "['d', 'e', 'v']\n",
      "['k', 'u', 'm', 'a', 'r']\n"
     ]
    }
   ],
   "source": [
    "#q2\n",
    "for i in l:\n",
    "    if type(i)==str:\n",
    "        l1=[]\n",
    "        for j in i:\n",
    "            l1.append(j)\n",
    "        print(l1)  \n",
    "            \n",
    "        "
   ]
  },
  {
   "cell_type": "code",
   "execution_count": 67,
   "id": "0bccbbe2",
   "metadata": {},
   "outputs": [],
   "source": [
    "#q3\n",
    "l1=[]\n",
    "for i in l:\n",
    "    if type(i)==int:\n",
    "        l1.append(i**2)"
   ]
  },
  {
   "cell_type": "code",
   "execution_count": 68,
   "id": "55f9a2c1",
   "metadata": {},
   "outputs": [
    {
     "data": {
      "text/plain": [
       "[4, 2025, 6084, 144, 144, 144, 144, 144]"
      ]
     },
     "execution_count": 68,
     "metadata": {},
     "output_type": "execute_result"
    }
   ],
   "source": [
    "l1"
   ]
  },
  {
   "cell_type": "code",
   "execution_count": null,
   "id": "d6276023",
   "metadata": {},
   "outputs": [],
   "source": []
  }
 ],
 "metadata": {
  "kernelspec": {
   "display_name": "Python 3 (ipykernel)",
   "language": "python",
   "name": "python3"
  },
  "language_info": {
   "codemirror_mode": {
    "name": "ipython",
    "version": 3
   },
   "file_extension": ".py",
   "mimetype": "text/x-python",
   "name": "python",
   "nbconvert_exporter": "python",
   "pygments_lexer": "ipython3",
   "version": "3.9.12"
  }
 },
 "nbformat": 4,
 "nbformat_minor": 5
}

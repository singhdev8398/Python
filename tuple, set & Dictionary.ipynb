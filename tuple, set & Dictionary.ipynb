{
 "cells": [
  {
   "cell_type": "markdown",
   "id": "da745288",
   "metadata": {},
   "source": [
    "# Tuple"
   ]
  },
  {
   "cell_type": "code",
   "execution_count": 1,
   "id": "25c5b561",
   "metadata": {},
   "outputs": [],
   "source": [
    "t=(1,2,3,4,56)"
   ]
  },
  {
   "cell_type": "code",
   "execution_count": 2,
   "id": "8b6dbe5d",
   "metadata": {},
   "outputs": [
    {
     "data": {
      "text/plain": [
       "(1, 2, 3, 4, 56)"
      ]
     },
     "execution_count": 2,
     "metadata": {},
     "output_type": "execute_result"
    }
   ],
   "source": [
    "t"
   ]
  },
  {
   "cell_type": "code",
   "execution_count": 3,
   "id": "c129cf5c",
   "metadata": {},
   "outputs": [
    {
     "data": {
      "text/plain": [
       "tuple"
      ]
     },
     "execution_count": 3,
     "metadata": {},
     "output_type": "execute_result"
    }
   ],
   "source": [
    "type(t)"
   ]
  },
  {
   "cell_type": "code",
   "execution_count": 4,
   "id": "d74c52c1",
   "metadata": {},
   "outputs": [],
   "source": [
    "t1=(\"dev\",456,6+8j,True,\"devdsingh\")"
   ]
  },
  {
   "cell_type": "code",
   "execution_count": 5,
   "id": "59de52e5",
   "metadata": {},
   "outputs": [
    {
     "data": {
      "text/plain": [
       "('dev', 456, (6+8j), True, 'devdsingh')"
      ]
     },
     "execution_count": 5,
     "metadata": {},
     "output_type": "execute_result"
    }
   ],
   "source": [
    "t1"
   ]
  },
  {
   "cell_type": "code",
   "execution_count": 6,
   "id": "fab42bd7",
   "metadata": {},
   "outputs": [
    {
     "data": {
      "text/plain": [
       "tuple"
      ]
     },
     "execution_count": 6,
     "metadata": {},
     "output_type": "execute_result"
    }
   ],
   "source": [
    "type(t1)"
   ]
  },
  {
   "cell_type": "code",
   "execution_count": 7,
   "id": "ff35ab45",
   "metadata": {},
   "outputs": [],
   "source": [
    "l=[\"dev\",456,6+8j,True,\"devdsingh\"]"
   ]
  },
  {
   "cell_type": "code",
   "execution_count": 8,
   "id": "8417abac",
   "metadata": {},
   "outputs": [
    {
     "data": {
      "text/plain": [
       "list"
      ]
     },
     "execution_count": 8,
     "metadata": {},
     "output_type": "execute_result"
    }
   ],
   "source": [
    "type(l)"
   ]
  },
  {
   "cell_type": "code",
   "execution_count": 9,
   "id": "b78242ae",
   "metadata": {},
   "outputs": [],
   "source": [
    "t2=()"
   ]
  },
  {
   "cell_type": "code",
   "execution_count": 10,
   "id": "593f5ddf",
   "metadata": {},
   "outputs": [
    {
     "data": {
      "text/plain": [
       "tuple"
      ]
     },
     "execution_count": 10,
     "metadata": {},
     "output_type": "execute_result"
    }
   ],
   "source": [
    "type(t2)"
   ]
  },
  {
   "cell_type": "code",
   "execution_count": 11,
   "id": "a8b73f92",
   "metadata": {},
   "outputs": [
    {
     "data": {
      "text/plain": [
       "('dev', 456, (6+8j), True, 'devdsingh')"
      ]
     },
     "execution_count": 11,
     "metadata": {},
     "output_type": "execute_result"
    }
   ],
   "source": [
    "t1"
   ]
  },
  {
   "cell_type": "code",
   "execution_count": 12,
   "id": "d907223d",
   "metadata": {},
   "outputs": [
    {
     "data": {
      "text/plain": [
       "['dev', 456, (6+8j), True, 'devdsingh']"
      ]
     },
     "execution_count": 12,
     "metadata": {},
     "output_type": "execute_result"
    }
   ],
   "source": [
    "l"
   ]
  },
  {
   "cell_type": "code",
   "execution_count": 13,
   "id": "bf67f7a4",
   "metadata": {},
   "outputs": [
    {
     "data": {
      "text/plain": [
       "['dev', 456]"
      ]
     },
     "execution_count": 13,
     "metadata": {},
     "output_type": "execute_result"
    }
   ],
   "source": [
    "l[0:2]"
   ]
  },
  {
   "cell_type": "code",
   "execution_count": 14,
   "id": "c1305af8",
   "metadata": {},
   "outputs": [
    {
     "data": {
      "text/plain": [
       "('dev', 456)"
      ]
     },
     "execution_count": 14,
     "metadata": {},
     "output_type": "execute_result"
    }
   ],
   "source": [
    "t1[0:2]"
   ]
  },
  {
   "cell_type": "code",
   "execution_count": 15,
   "id": "95fc0745",
   "metadata": {},
   "outputs": [
    {
     "data": {
      "text/plain": [
       "('devdsingh', True, (6+8j), 456, 'dev')"
      ]
     },
     "execution_count": 15,
     "metadata": {},
     "output_type": "execute_result"
    }
   ],
   "source": [
    "t1[::-1]"
   ]
  },
  {
   "cell_type": "code",
   "execution_count": 16,
   "id": "8f3617bc",
   "metadata": {},
   "outputs": [
    {
     "data": {
      "text/plain": [
       "'devdsingh'"
      ]
     },
     "execution_count": 16,
     "metadata": {},
     "output_type": "execute_result"
    }
   ],
   "source": [
    "t1[-1]"
   ]
  },
  {
   "cell_type": "code",
   "execution_count": 17,
   "id": "499de27a",
   "metadata": {},
   "outputs": [
    {
     "data": {
      "text/plain": [
       "('dev', 456, (6+8j), True, 'devdsingh')"
      ]
     },
     "execution_count": 17,
     "metadata": {},
     "output_type": "execute_result"
    }
   ],
   "source": [
    "t1\n"
   ]
  },
  {
   "cell_type": "code",
   "execution_count": 18,
   "id": "5f491362",
   "metadata": {},
   "outputs": [
    {
     "data": {
      "text/plain": [
       "('dev', (6+8j), 'devdsingh')"
      ]
     },
     "execution_count": 18,
     "metadata": {},
     "output_type": "execute_result"
    }
   ],
   "source": [
    "t1[0::2]"
   ]
  },
  {
   "cell_type": "code",
   "execution_count": 19,
   "id": "5ba0b077",
   "metadata": {},
   "outputs": [
    {
     "data": {
      "text/plain": [
       "['dev', 456, (6+8j), True, 'devdsingh']"
      ]
     },
     "execution_count": 19,
     "metadata": {},
     "output_type": "execute_result"
    }
   ],
   "source": [
    "l\n"
   ]
  },
  {
   "cell_type": "code",
   "execution_count": 20,
   "id": "0f4c72d3",
   "metadata": {},
   "outputs": [],
   "source": [
    "l1=[1,2,3,4,5]"
   ]
  },
  {
   "cell_type": "code",
   "execution_count": 21,
   "id": "7461a16e",
   "metadata": {},
   "outputs": [],
   "source": [
    "l[0]=\"kumar\""
   ]
  },
  {
   "cell_type": "code",
   "execution_count": 22,
   "id": "18fbbbae",
   "metadata": {},
   "outputs": [
    {
     "data": {
      "text/plain": [
       "['kumar', 456, (6+8j), True, 'devdsingh']"
      ]
     },
     "execution_count": 22,
     "metadata": {},
     "output_type": "execute_result"
    }
   ],
   "source": [
    "l"
   ]
  },
  {
   "cell_type": "code",
   "execution_count": 23,
   "id": "16ff03d0",
   "metadata": {},
   "outputs": [
    {
     "data": {
      "text/plain": [
       "('dev', 456, (6+8j), True, 'devdsingh')"
      ]
     },
     "execution_count": 23,
     "metadata": {},
     "output_type": "execute_result"
    }
   ],
   "source": [
    "t1"
   ]
  },
  {
   "cell_type": "code",
   "execution_count": 24,
   "id": "a2c745b2",
   "metadata": {},
   "outputs": [
    {
     "ename": "TypeError",
     "evalue": "'tuple' object does not support item assignment",
     "output_type": "error",
     "traceback": [
      "\u001b[1;31m---------------------------------------------------------------------------\u001b[0m",
      "\u001b[1;31mTypeError\u001b[0m                                 Traceback (most recent call last)",
      "Input \u001b[1;32mIn [24]\u001b[0m, in \u001b[0;36m<cell line: 1>\u001b[1;34m()\u001b[0m\n\u001b[1;32m----> 1\u001b[0m t2[\u001b[38;5;241m0\u001b[39m]\u001b[38;5;241m=\u001b[39m\u001b[38;5;124m\"\u001b[39m\u001b[38;5;124mkumar\u001b[39m\u001b[38;5;124m\"\u001b[39m\n",
      "\u001b[1;31mTypeError\u001b[0m: 'tuple' object does not support item assignment"
     ]
    }
   ],
   "source": [
    "t2[0]=\"kumar\"     #tuple is a imutable and list is mutable "
   ]
  },
  {
   "cell_type": "code",
   "execution_count": 25,
   "id": "3794f1dd",
   "metadata": {},
   "outputs": [],
   "source": [
    "s=\"sudh\"\n"
   ]
  },
  {
   "cell_type": "code",
   "execution_count": 26,
   "id": "47f9661e",
   "metadata": {},
   "outputs": [
    {
     "ename": "TypeError",
     "evalue": "'str' object does not support item assignment",
     "output_type": "error",
     "traceback": [
      "\u001b[1;31m---------------------------------------------------------------------------\u001b[0m",
      "\u001b[1;31mTypeError\u001b[0m                                 Traceback (most recent call last)",
      "Input \u001b[1;32mIn [26]\u001b[0m, in \u001b[0;36m<cell line: 1>\u001b[1;34m()\u001b[0m\n\u001b[1;32m----> 1\u001b[0m s[\u001b[38;5;241m0\u001b[39m]\u001b[38;5;241m=\u001b[39m\u001b[38;5;124m\"\u001b[39m\u001b[38;5;124mdev\u001b[39m\u001b[38;5;124m\"\u001b[39m\n",
      "\u001b[1;31mTypeError\u001b[0m: 'str' object does not support item assignment"
     ]
    }
   ],
   "source": [
    "s[0]=\"dev\"   # string is a imutable imutable "
   ]
  },
  {
   "cell_type": "code",
   "execution_count": 27,
   "id": "e8105041",
   "metadata": {},
   "outputs": [
    {
     "data": {
      "text/plain": [
       "('dev', 456, (6+8j), True, 'devdsingh')"
      ]
     },
     "execution_count": 27,
     "metadata": {},
     "output_type": "execute_result"
    }
   ],
   "source": [
    "t1"
   ]
  },
  {
   "cell_type": "code",
   "execution_count": 28,
   "id": "85c3beb3",
   "metadata": {},
   "outputs": [
    {
     "data": {
      "text/plain": [
       "(34, 56, 78, 98, 90)"
      ]
     },
     "execution_count": 28,
     "metadata": {},
     "output_type": "execute_result"
    }
   ],
   "source": [
    "t2=(34,56,78,98,90)\n",
    "t2\n"
   ]
  },
  {
   "cell_type": "code",
   "execution_count": 29,
   "id": "2da5c7a3",
   "metadata": {},
   "outputs": [
    {
     "data": {
      "text/plain": [
       "('dev', 456, (6+8j), True, 'devdsingh', 34, 56, 78, 98, 90)"
      ]
     },
     "execution_count": 29,
     "metadata": {},
     "output_type": "execute_result"
    }
   ],
   "source": [
    "t1+t2"
   ]
  },
  {
   "cell_type": "code",
   "execution_count": 30,
   "id": "2f88ec98",
   "metadata": {},
   "outputs": [
    {
     "data": {
      "text/plain": [
       "[1, 2, 3, 4, 5]"
      ]
     },
     "execution_count": 30,
     "metadata": {},
     "output_type": "execute_result"
    }
   ],
   "source": [
    "l1"
   ]
  },
  {
   "cell_type": "code",
   "execution_count": 31,
   "id": "124059e7",
   "metadata": {},
   "outputs": [
    {
     "data": {
      "text/plain": [
       "['kumar', 456, (6+8j), True, 'devdsingh']"
      ]
     },
     "execution_count": 31,
     "metadata": {},
     "output_type": "execute_result"
    }
   ],
   "source": [
    "l"
   ]
  },
  {
   "cell_type": "code",
   "execution_count": 32,
   "id": "c013d024",
   "metadata": {},
   "outputs": [
    {
     "data": {
      "text/plain": [
       "['kumar', 456, (6+8j), True, 'devdsingh', 1, 2, 3, 4, 5]"
      ]
     },
     "execution_count": 32,
     "metadata": {},
     "output_type": "execute_result"
    }
   ],
   "source": [
    "l+l1"
   ]
  },
  {
   "cell_type": "code",
   "execution_count": 33,
   "id": "54349e73",
   "metadata": {},
   "outputs": [
    {
     "data": {
      "text/plain": [
       "('dev', 456, (6+8j), True, 'devdsingh')"
      ]
     },
     "execution_count": 33,
     "metadata": {},
     "output_type": "execute_result"
    }
   ],
   "source": [
    "t1"
   ]
  },
  {
   "cell_type": "code",
   "execution_count": 34,
   "id": "031ef79d",
   "metadata": {},
   "outputs": [
    {
     "data": {
      "text/plain": [
       "('dev', 456, (6+8j), True, 'devdsingh', 'dev', 456, (6+8j), True, 'devdsingh')"
      ]
     },
     "execution_count": 34,
     "metadata": {},
     "output_type": "execute_result"
    }
   ],
   "source": [
    "t1*2"
   ]
  },
  {
   "cell_type": "code",
   "execution_count": 35,
   "id": "cfbbaa3b",
   "metadata": {},
   "outputs": [
    {
     "data": {
      "text/plain": [
       "[1, 2, 3, 4, 5, 1, 2, 3, 4, 5, 1, 2, 3, 4, 5]"
      ]
     },
     "execution_count": 35,
     "metadata": {},
     "output_type": "execute_result"
    }
   ],
   "source": [
    "l1*3"
   ]
  },
  {
   "cell_type": "code",
   "execution_count": 36,
   "id": "af4f93b6",
   "metadata": {},
   "outputs": [
    {
     "data": {
      "text/plain": [
       "[[], [], []]"
      ]
     },
     "execution_count": 36,
     "metadata": {},
     "output_type": "execute_result"
    }
   ],
   "source": [
    "[[]]*3"
   ]
  },
  {
   "cell_type": "code",
   "execution_count": 37,
   "id": "c24b1274",
   "metadata": {},
   "outputs": [
    {
     "data": {
      "text/plain": [
       "0"
      ]
     },
     "execution_count": 37,
     "metadata": {},
     "output_type": "execute_result"
    }
   ],
   "source": [
    "t1.count(\"sudh\")"
   ]
  },
  {
   "cell_type": "code",
   "execution_count": 38,
   "id": "f7fd3a6f",
   "metadata": {},
   "outputs": [
    {
     "ename": "ValueError",
     "evalue": "tuple.index(x): x not in tuple",
     "output_type": "error",
     "traceback": [
      "\u001b[1;31m---------------------------------------------------------------------------\u001b[0m",
      "\u001b[1;31mValueError\u001b[0m                                Traceback (most recent call last)",
      "Input \u001b[1;32mIn [38]\u001b[0m, in \u001b[0;36m<cell line: 1>\u001b[1;34m()\u001b[0m\n\u001b[1;32m----> 1\u001b[0m \u001b[43mt1\u001b[49m\u001b[38;5;241;43m.\u001b[39;49m\u001b[43mindex\u001b[49m\u001b[43m(\u001b[49m\u001b[38;5;124;43m'\u001b[39;49m\u001b[38;5;124;43mkumar\u001b[39;49m\u001b[38;5;124;43m'\u001b[39;49m\u001b[43m)\u001b[49m\n",
      "\u001b[1;31mValueError\u001b[0m: tuple.index(x): x not in tuple"
     ]
    }
   ],
   "source": [
    "t1.index('kumar')"
   ]
  },
  {
   "cell_type": "code",
   "execution_count": 39,
   "id": "9551ed87",
   "metadata": {},
   "outputs": [
    {
     "data": {
      "text/plain": [
       "['kumar', 456, (6+8j), True, 'devdsingh']"
      ]
     },
     "execution_count": 39,
     "metadata": {},
     "output_type": "execute_result"
    }
   ],
   "source": [
    "l"
   ]
  },
  {
   "cell_type": "code",
   "execution_count": 40,
   "id": "590d8d8d",
   "metadata": {},
   "outputs": [
    {
     "data": {
      "text/plain": [
       "(23, 45, 6, 4, (23, 34, 4), 'dev')"
      ]
     },
     "execution_count": 40,
     "metadata": {},
     "output_type": "execute_result"
    }
   ],
   "source": [
    "t=(23,45,6,4,(23,34,4),(\"dev\"))\n",
    "t"
   ]
  },
  {
   "cell_type": "code",
   "execution_count": 41,
   "id": "35da834b",
   "metadata": {
    "scrolled": true
   },
   "outputs": [
    {
     "data": {
      "text/plain": [
       "([3, 4, 5, 6, 7], 546, 75, ('dev', 23, 45, 'devrashmi'))"
      ]
     },
     "execution_count": 41,
     "metadata": {},
     "output_type": "execute_result"
    }
   ],
   "source": [
    "t1=([3,4,5,6,7],546,75,(\"dev\",23,45,\"devrashmi\"))\n",
    "t1"
   ]
  },
  {
   "cell_type": "code",
   "execution_count": 42,
   "id": "e71db52c",
   "metadata": {},
   "outputs": [],
   "source": [
    "t1[0][2]=\"dev\""
   ]
  },
  {
   "cell_type": "code",
   "execution_count": 43,
   "id": "4105f814",
   "metadata": {},
   "outputs": [
    {
     "data": {
      "text/plain": [
       "([3, 4, 'dev', 6, 7], 546, 75, ('dev', 23, 45, 'devrashmi'))"
      ]
     },
     "execution_count": 43,
     "metadata": {},
     "output_type": "execute_result"
    }
   ],
   "source": [
    "t1"
   ]
  },
  {
   "cell_type": "code",
   "execution_count": 44,
   "id": "e1bc6ae5",
   "metadata": {},
   "outputs": [
    {
     "ename": "TypeError",
     "evalue": "'tuple' object does not support item assignment",
     "output_type": "error",
     "traceback": [
      "\u001b[1;31m---------------------------------------------------------------------------\u001b[0m",
      "\u001b[1;31mTypeError\u001b[0m                                 Traceback (most recent call last)",
      "Input \u001b[1;32mIn [44]\u001b[0m, in \u001b[0;36m<cell line: 1>\u001b[1;34m()\u001b[0m\n\u001b[1;32m----> 1\u001b[0m t1[\u001b[38;5;241m0\u001b[39m]\u001b[38;5;241m=\u001b[39m\u001b[38;5;124m\"\u001b[39m\u001b[38;5;124mdevdsingh\u001b[39m\u001b[38;5;124m\"\u001b[39m\n",
      "\u001b[1;31mTypeError\u001b[0m: 'tuple' object does not support item assignment"
     ]
    }
   ],
   "source": [
    "t1[0]=\"devdsingh\""
   ]
  },
  {
   "cell_type": "code",
   "execution_count": 45,
   "id": "dea0c7b2",
   "metadata": {},
   "outputs": [],
   "source": [
    "t1=(2,3,4,4,5,5,5,5)"
   ]
  },
  {
   "cell_type": "code",
   "execution_count": 46,
   "id": "e2c03b61",
   "metadata": {},
   "outputs": [],
   "source": [
    "t2=list(t1)"
   ]
  },
  {
   "cell_type": "code",
   "execution_count": 47,
   "id": "8a1abb62",
   "metadata": {},
   "outputs": [
    {
     "data": {
      "text/plain": [
       "[2, 3, 4, 4, 5, 5, 5, 5]"
      ]
     },
     "execution_count": 47,
     "metadata": {},
     "output_type": "execute_result"
    }
   ],
   "source": [
    "t2"
   ]
  },
  {
   "cell_type": "code",
   "execution_count": 48,
   "id": "c25bf47e",
   "metadata": {},
   "outputs": [
    {
     "data": {
      "text/plain": [
       "('kumar', 456, (6+8j), True, 'devdsingh')"
      ]
     },
     "execution_count": 48,
     "metadata": {},
     "output_type": "execute_result"
    }
   ],
   "source": [
    "tuple(l)"
   ]
  },
  {
   "cell_type": "markdown",
   "id": "84e1ff38",
   "metadata": {},
   "source": [
    "# Set"
   ]
  },
  {
   "cell_type": "code",
   "execution_count": 49,
   "id": "f5cff38d",
   "metadata": {},
   "outputs": [],
   "source": [
    "l=[1,2,3,4,5,65,5,6,5,6,5,5,5,5,7,6,5,45,5,55,5,5,5,5,]"
   ]
  },
  {
   "cell_type": "code",
   "execution_count": 50,
   "id": "be79044e",
   "metadata": {},
   "outputs": [
    {
     "data": {
      "text/plain": [
       "{1, 2, 3, 4, 5, 6, 7, 45, 55, 65}"
      ]
     },
     "execution_count": 50,
     "metadata": {},
     "output_type": "execute_result"
    }
   ],
   "source": [
    "set(l)"
   ]
  },
  {
   "cell_type": "code",
   "execution_count": 51,
   "id": "e95aaa01",
   "metadata": {},
   "outputs": [],
   "source": [
    "s={}"
   ]
  },
  {
   "cell_type": "code",
   "execution_count": 52,
   "id": "8fbcaba8",
   "metadata": {},
   "outputs": [
    {
     "data": {
      "text/plain": [
       "dict"
      ]
     },
     "execution_count": 52,
     "metadata": {},
     "output_type": "execute_result"
    }
   ],
   "source": [
    "type(s)"
   ]
  },
  {
   "cell_type": "code",
   "execution_count": 53,
   "id": "26624320",
   "metadata": {},
   "outputs": [],
   "source": [
    "s1={2,3,4,5}"
   ]
  },
  {
   "cell_type": "code",
   "execution_count": 54,
   "id": "5b88332d",
   "metadata": {},
   "outputs": [
    {
     "data": {
      "text/plain": [
       "set"
      ]
     },
     "execution_count": 54,
     "metadata": {},
     "output_type": "execute_result"
    }
   ],
   "source": [
    "type(s1)"
   ]
  },
  {
   "cell_type": "code",
   "execution_count": 55,
   "id": "60e31122",
   "metadata": {},
   "outputs": [],
   "source": [
    "s2={1,2,2,2,2,2,2,2,2,3,3,4,4,5,5,5,6,6,7,7,8,9,9,9,9,0,0,998,8,8,7,7}"
   ]
  },
  {
   "cell_type": "code",
   "execution_count": 56,
   "id": "93c3dba0",
   "metadata": {},
   "outputs": [
    {
     "data": {
      "text/plain": [
       "{0, 1, 2, 3, 4, 5, 6, 7, 8, 9, 998}"
      ]
     },
     "execution_count": 56,
     "metadata": {},
     "output_type": "execute_result"
    }
   ],
   "source": [
    "s2"
   ]
  },
  {
   "cell_type": "code",
   "execution_count": 57,
   "id": "cfa5c1b5",
   "metadata": {},
   "outputs": [
    {
     "ename": "TypeError",
     "evalue": "'set' object is not subscriptable",
     "output_type": "error",
     "traceback": [
      "\u001b[1;31m---------------------------------------------------------------------------\u001b[0m",
      "\u001b[1;31mTypeError\u001b[0m                                 Traceback (most recent call last)",
      "Input \u001b[1;32mIn [57]\u001b[0m, in \u001b[0;36m<cell line: 1>\u001b[1;34m()\u001b[0m\n\u001b[1;32m----> 1\u001b[0m \u001b[43ms2\u001b[49m\u001b[43m[\u001b[49m\u001b[38;5;241;43m0\u001b[39;49m\u001b[43m]\u001b[49m\n",
      "\u001b[1;31mTypeError\u001b[0m: 'set' object is not subscriptable"
     ]
    }
   ],
   "source": [
    "s2[0]"
   ]
  },
  {
   "cell_type": "code",
   "execution_count": 58,
   "id": "32c66076",
   "metadata": {},
   "outputs": [
    {
     "data": {
      "text/plain": [
       "[0, 1, 2, 3, 4, 5, 6, 7, 8, 9, 998]"
      ]
     },
     "execution_count": 58,
     "metadata": {},
     "output_type": "execute_result"
    }
   ],
   "source": [
    "list(s2)"
   ]
  },
  {
   "cell_type": "code",
   "execution_count": 59,
   "id": "a3df85b8",
   "metadata": {},
   "outputs": [],
   "source": [
    "s2.add(345)"
   ]
  },
  {
   "cell_type": "code",
   "execution_count": 60,
   "id": "46749f8a",
   "metadata": {},
   "outputs": [
    {
     "data": {
      "text/plain": [
       "{0, 1, 2, 3, 4, 5, 6, 7, 8, 9, 345, 998}"
      ]
     },
     "execution_count": 60,
     "metadata": {},
     "output_type": "execute_result"
    }
   ],
   "source": [
    "s2"
   ]
  },
  {
   "cell_type": "code",
   "execution_count": 61,
   "id": "69eb74fe",
   "metadata": {},
   "outputs": [],
   "source": [
    "s2.add(\"dev\")"
   ]
  },
  {
   "cell_type": "code",
   "execution_count": 62,
   "id": "d772a627",
   "metadata": {},
   "outputs": [
    {
     "data": {
      "text/plain": [
       "{0, 1, 2, 3, 345, 4, 5, 6, 7, 8, 9, 998, 'dev'}"
      ]
     },
     "execution_count": 62,
     "metadata": {},
     "output_type": "execute_result"
    }
   ],
   "source": [
    "s2"
   ]
  },
  {
   "cell_type": "code",
   "execution_count": 63,
   "id": "37d7b26a",
   "metadata": {},
   "outputs": [
    {
     "ename": "TypeError",
     "evalue": "unhashable type: 'list'",
     "output_type": "error",
     "traceback": [
      "\u001b[1;31m---------------------------------------------------------------------------\u001b[0m",
      "\u001b[1;31mTypeError\u001b[0m                                 Traceback (most recent call last)",
      "Input \u001b[1;32mIn [63]\u001b[0m, in \u001b[0;36m<cell line: 1>\u001b[1;34m()\u001b[0m\n\u001b[1;32m----> 1\u001b[0m \u001b[43ms2\u001b[49m\u001b[38;5;241;43m.\u001b[39;49m\u001b[43madd\u001b[49m\u001b[43m(\u001b[49m\u001b[43m[\u001b[49m\u001b[38;5;241;43m2\u001b[39;49m\u001b[43m,\u001b[49m\u001b[38;5;241;43m3\u001b[39;49m\u001b[43m,\u001b[49m\u001b[38;5;241;43m4\u001b[39;49m\u001b[43m,\u001b[49m\u001b[38;5;241;43m5\u001b[39;49m\u001b[43m]\u001b[49m\u001b[43m)\u001b[49m\n",
      "\u001b[1;31mTypeError\u001b[0m: unhashable type: 'list'"
     ]
    }
   ],
   "source": [
    "s2.add([2,3,4,5])"
   ]
  },
  {
   "cell_type": "code",
   "execution_count": 64,
   "id": "9a156a23",
   "metadata": {},
   "outputs": [
    {
     "ename": "TypeError",
     "evalue": "unhashable type: 'list'",
     "output_type": "error",
     "traceback": [
      "\u001b[1;31m---------------------------------------------------------------------------\u001b[0m",
      "\u001b[1;31mTypeError\u001b[0m                                 Traceback (most recent call last)",
      "Input \u001b[1;32mIn [64]\u001b[0m, in \u001b[0;36m<cell line: 1>\u001b[1;34m()\u001b[0m\n\u001b[1;32m----> 1\u001b[0m {[\u001b[38;5;241m2\u001b[39m,\u001b[38;5;241m3\u001b[39m,\u001b[38;5;241m4\u001b[39m,\u001b[38;5;241m5\u001b[39m],\u001b[38;5;241m4\u001b[39m,\u001b[38;5;241m5\u001b[39m,\u001b[38;5;241m6\u001b[39m,\u001b[38;5;241m7\u001b[39m,\u001b[38;5;241m8\u001b[39m}\n",
      "\u001b[1;31mTypeError\u001b[0m: unhashable type: 'list'"
     ]
    }
   ],
   "source": [
    "{[2,3,4,5],4,5,6,7,8}"
   ]
  },
  {
   "cell_type": "code",
   "execution_count": 65,
   "id": "423dde62",
   "metadata": {},
   "outputs": [
    {
     "ename": "TypeError",
     "evalue": "unhashable type: 'set'",
     "output_type": "error",
     "traceback": [
      "\u001b[1;31m---------------------------------------------------------------------------\u001b[0m",
      "\u001b[1;31mTypeError\u001b[0m                                 Traceback (most recent call last)",
      "Input \u001b[1;32mIn [65]\u001b[0m, in \u001b[0;36m<cell line: 1>\u001b[1;34m()\u001b[0m\n\u001b[1;32m----> 1\u001b[0m {{\u001b[38;5;241m2\u001b[39m,\u001b[38;5;241m3\u001b[39m,\u001b[38;5;241m4\u001b[39m,\u001b[38;5;241m5\u001b[39m},\u001b[38;5;241m4\u001b[39m,\u001b[38;5;241m5\u001b[39m,\u001b[38;5;241m6\u001b[39m,\u001b[38;5;241m7\u001b[39m,\u001b[38;5;241m8\u001b[39m}\n",
      "\u001b[1;31mTypeError\u001b[0m: unhashable type: 'set'"
     ]
    }
   ],
   "source": [
    "{{2,3,4,5},4,5,6,7,8}"
   ]
  },
  {
   "cell_type": "code",
   "execution_count": 66,
   "id": "0d887c99",
   "metadata": {},
   "outputs": [
    {
     "data": {
      "text/plain": [
       "{(2, 3, 4, 5), 4, 5, 6, 7, 8}"
      ]
     },
     "execution_count": 66,
     "metadata": {},
     "output_type": "execute_result"
    }
   ],
   "source": [
    "{(2,3,4,5),4,5,6,7,8}"
   ]
  },
  {
   "cell_type": "code",
   "execution_count": 67,
   "id": "4ab9dfc3",
   "metadata": {},
   "outputs": [
    {
     "data": {
      "text/plain": [
       "[{}, (), \"''\"]"
      ]
     },
     "execution_count": 67,
     "metadata": {},
     "output_type": "execute_result"
    }
   ],
   "source": [
    "[{},(),\"''\"] #bodmas bracket rule use hoga"
   ]
  },
  {
   "cell_type": "code",
   "execution_count": 68,
   "id": "b813639c",
   "metadata": {},
   "outputs": [
    {
     "data": {
      "text/plain": [
       "{(4, 5), 23, 4, 5}"
      ]
     },
     "execution_count": 68,
     "metadata": {},
     "output_type": "execute_result"
    }
   ],
   "source": [
    "{23,4,5,(4,5)}\n"
   ]
  },
  {
   "cell_type": "code",
   "execution_count": 69,
   "id": "22e28837",
   "metadata": {},
   "outputs": [
    {
     "ename": "TypeError",
     "evalue": "unhashable type: 'dict'",
     "output_type": "error",
     "traceback": [
      "\u001b[1;31m---------------------------------------------------------------------------\u001b[0m",
      "\u001b[1;31mTypeError\u001b[0m                                 Traceback (most recent call last)",
      "Input \u001b[1;32mIn [69]\u001b[0m, in \u001b[0;36m<cell line: 1>\u001b[1;34m()\u001b[0m\n\u001b[1;32m----> 1\u001b[0m {{}}\n",
      "\u001b[1;31mTypeError\u001b[0m: unhashable type: 'dict'"
     ]
    }
   ],
   "source": [
    "{{}}"
   ]
  },
  {
   "cell_type": "code",
   "execution_count": 70,
   "id": "b2ddb596",
   "metadata": {},
   "outputs": [
    {
     "data": {
      "text/plain": [
       "(2, 3, 4, {3, 4, 5})"
      ]
     },
     "execution_count": 70,
     "metadata": {},
     "output_type": "execute_result"
    }
   ],
   "source": [
    "(2,3,4,{3,4,5})"
   ]
  },
  {
   "cell_type": "code",
   "execution_count": 71,
   "id": "9e694175",
   "metadata": {},
   "outputs": [],
   "source": [
    "s={(2,3,4,5),(2,3,4,5),3,4,5,3,4,5}"
   ]
  },
  {
   "cell_type": "code",
   "execution_count": 72,
   "id": "0213645d",
   "metadata": {},
   "outputs": [
    {
     "data": {
      "text/plain": [
       "{(2, 3, 4, 5), 3, 4, 5}"
      ]
     },
     "execution_count": 72,
     "metadata": {},
     "output_type": "execute_result"
    }
   ],
   "source": [
    "s"
   ]
  },
  {
   "cell_type": "code",
   "execution_count": 73,
   "id": "efbf179f",
   "metadata": {},
   "outputs": [],
   "source": [
    "s.remove(4)"
   ]
  },
  {
   "cell_type": "code",
   "execution_count": 74,
   "id": "f6e4e475",
   "metadata": {},
   "outputs": [
    {
     "data": {
      "text/plain": [
       "{(2, 3, 4, 5), 3, 5}"
      ]
     },
     "execution_count": 74,
     "metadata": {},
     "output_type": "execute_result"
    }
   ],
   "source": [
    "s"
   ]
  },
  {
   "cell_type": "code",
   "execution_count": 75,
   "id": "8bf5023a",
   "metadata": {},
   "outputs": [],
   "source": [
    "s.discard(5)"
   ]
  },
  {
   "cell_type": "code",
   "execution_count": 76,
   "id": "7f21ae93",
   "metadata": {},
   "outputs": [
    {
     "data": {
      "text/plain": [
       "{(2, 3, 4, 5), 3}"
      ]
     },
     "execution_count": 76,
     "metadata": {},
     "output_type": "execute_result"
    }
   ],
   "source": [
    "s"
   ]
  },
  {
   "cell_type": "code",
   "execution_count": 77,
   "id": "2ad60bfa",
   "metadata": {},
   "outputs": [
    {
     "ename": "KeyError",
     "evalue": "45",
     "output_type": "error",
     "traceback": [
      "\u001b[1;31m---------------------------------------------------------------------------\u001b[0m",
      "\u001b[1;31mKeyError\u001b[0m                                  Traceback (most recent call last)",
      "Input \u001b[1;32mIn [77]\u001b[0m, in \u001b[0;36m<cell line: 1>\u001b[1;34m()\u001b[0m\n\u001b[1;32m----> 1\u001b[0m \u001b[43ms\u001b[49m\u001b[38;5;241;43m.\u001b[39;49m\u001b[43mremove\u001b[49m\u001b[43m(\u001b[49m\u001b[38;5;241;43m45\u001b[39;49m\u001b[43m)\u001b[49m\n",
      "\u001b[1;31mKeyError\u001b[0m: 45"
     ]
    }
   ],
   "source": [
    "s.remove(45)"
   ]
  },
  {
   "cell_type": "code",
   "execution_count": 78,
   "id": "3f6582b4",
   "metadata": {},
   "outputs": [],
   "source": [
    "s.discard(45)"
   ]
  },
  {
   "cell_type": "code",
   "execution_count": 79,
   "id": "03f5ad59",
   "metadata": {},
   "outputs": [
    {
     "data": {
      "text/plain": [
       "{(2, 3, 4, 5), 3}"
      ]
     },
     "execution_count": 79,
     "metadata": {},
     "output_type": "execute_result"
    }
   ],
   "source": [
    "s"
   ]
  },
  {
   "cell_type": "code",
   "execution_count": 80,
   "id": "6fba5fc6",
   "metadata": {},
   "outputs": [
    {
     "data": {
      "text/plain": [
       "{'Sudh', 'sudh'}"
      ]
     },
     "execution_count": 80,
     "metadata": {},
     "output_type": "execute_result"
    }
   ],
   "source": [
    "{\"sudh\",\"Sudh\"}"
   ]
  },
  {
   "cell_type": "markdown",
   "id": "5300ac4a",
   "metadata": {},
   "source": [
    "# Dictionary"
   ]
  },
  {
   "cell_type": "code",
   "execution_count": 81,
   "id": "2937f160",
   "metadata": {},
   "outputs": [],
   "source": [
    "d={}"
   ]
  },
  {
   "cell_type": "code",
   "execution_count": 82,
   "id": "87221c66",
   "metadata": {},
   "outputs": [
    {
     "data": {
      "text/plain": [
       "dict"
      ]
     },
     "execution_count": 82,
     "metadata": {},
     "output_type": "execute_result"
    }
   ],
   "source": [
    "type(d)"
   ]
  },
  {
   "cell_type": "code",
   "execution_count": 83,
   "id": "108e87d4",
   "metadata": {},
   "outputs": [],
   "source": [
    "d={4:'dev'}"
   ]
  },
  {
   "cell_type": "code",
   "execution_count": 84,
   "id": "2d8899b1",
   "metadata": {},
   "outputs": [
    {
     "data": {
      "text/plain": [
       "{4: 'dev'}"
      ]
     },
     "execution_count": 84,
     "metadata": {},
     "output_type": "execute_result"
    }
   ],
   "source": [
    "d"
   ]
  },
  {
   "cell_type": "code",
   "execution_count": 85,
   "id": "edda8358",
   "metadata": {},
   "outputs": [],
   "source": [
    "d1={\"key1\":5445,\"key2\":\"dev\",\"key3\":[2,3,4,5,6],45:[3,4,5,6]}   #key work as a index"
   ]
  },
  {
   "cell_type": "code",
   "execution_count": 86,
   "id": "733fcbd5",
   "metadata": {},
   "outputs": [
    {
     "data": {
      "text/plain": [
       "{'key1': 5445, 'key2': 'dev', 'key3': [2, 3, 4, 5, 6], 45: [3, 4, 5, 6]}"
      ]
     },
     "execution_count": 86,
     "metadata": {},
     "output_type": "execute_result"
    }
   ],
   "source": [
    "d1"
   ]
  },
  {
   "cell_type": "code",
   "execution_count": 87,
   "id": "03bc6f20",
   "metadata": {},
   "outputs": [
    {
     "data": {
      "text/plain": [
       "5445"
      ]
     },
     "execution_count": 87,
     "metadata": {},
     "output_type": "execute_result"
    }
   ],
   "source": [
    "d1[\"key1\"]"
   ]
  },
  {
   "cell_type": "code",
   "execution_count": 88,
   "id": "4aa2ae0d",
   "metadata": {},
   "outputs": [
    {
     "data": {
      "text/plain": [
       "[3, 4, 5, 6]"
      ]
     },
     "execution_count": 88,
     "metadata": {},
     "output_type": "execute_result"
    }
   ],
   "source": [
    "d1[45]"
   ]
  },
  {
   "cell_type": "code",
   "execution_count": 89,
   "id": "e289a671",
   "metadata": {},
   "outputs": [],
   "source": [
    "d={3:[\"dghddgh\",\"dgdfg\",4,5,6,7,8]}"
   ]
  },
  {
   "cell_type": "code",
   "execution_count": 90,
   "id": "1f702151",
   "metadata": {},
   "outputs": [
    {
     "data": {
      "text/plain": [
       "{3: ['dghddgh', 'dgdfg', 4, 5, 6, 7, 8]}"
      ]
     },
     "execution_count": 90,
     "metadata": {},
     "output_type": "execute_result"
    }
   ],
   "source": [
    "d"
   ]
  },
  {
   "cell_type": "code",
   "execution_count": 91,
   "id": "39ecf30b",
   "metadata": {},
   "outputs": [
    {
     "ename": "SyntaxError",
     "evalue": "unexpected EOF while parsing (853741761.py, line 1)",
     "output_type": "error",
     "traceback": [
      "\u001b[1;36m  Input \u001b[1;32mIn [91]\u001b[1;36m\u001b[0m\n\u001b[1;33m    d={#:[\"dghddgh\",\"dgdfg\",4,5,6,7,8]}\u001b[0m\n\u001b[1;37m                                       ^\u001b[0m\n\u001b[1;31mSyntaxError\u001b[0m\u001b[1;31m:\u001b[0m unexpected EOF while parsing\n"
     ]
    }
   ],
   "source": [
    "d={#:[\"dghddgh\",\"dgdfg\",4,5,6,7,8]}"
   ]
  },
  {
   "cell_type": "code",
   "execution_count": 92,
   "id": "2be52d13",
   "metadata": {},
   "outputs": [],
   "source": [
    "d={.3:[\"dghddgh\",\"dgdfg\",4,5,6,7,8]}"
   ]
  },
  {
   "cell_type": "code",
   "execution_count": 93,
   "id": "90a079f0",
   "metadata": {},
   "outputs": [
    {
     "data": {
      "text/plain": [
       "{0.3: ['dghddgh', 'dgdfg', 4, 5, 6, 7, 8]}"
      ]
     },
     "execution_count": 93,
     "metadata": {},
     "output_type": "execute_result"
    }
   ],
   "source": [
    "d"
   ]
  },
  {
   "cell_type": "code",
   "execution_count": 94,
   "id": "28826db3",
   "metadata": {},
   "outputs": [],
   "source": [
    "d={\"_3\":[\"dghddgh\",\"dgdfg\",4,5,6,7,8]}"
   ]
  },
  {
   "cell_type": "code",
   "execution_count": 95,
   "id": "5d934482",
   "metadata": {},
   "outputs": [
    {
     "data": {
      "text/plain": [
       "{'_3': ['dghddgh', 'dgdfg', 4, 5, 6, 7, 8]}"
      ]
     },
     "execution_count": 95,
     "metadata": {},
     "output_type": "execute_result"
    }
   ],
   "source": [
    "d"
   ]
  },
  {
   "cell_type": "code",
   "execution_count": 96,
   "id": "dcbcd5bc",
   "metadata": {},
   "outputs": [],
   "source": [
    "d={\"KEy\":[\"dghddgh\",\"dgdfg\",4,5,6,7,8]}"
   ]
  },
  {
   "cell_type": "code",
   "execution_count": 97,
   "id": "985c98c5",
   "metadata": {},
   "outputs": [
    {
     "data": {
      "text/plain": [
       "{'KEy': ['dghddgh', 'dgdfg', 4, 5, 6, 7, 8]}"
      ]
     },
     "execution_count": 97,
     "metadata": {},
     "output_type": "execute_result"
    }
   ],
   "source": [
    "d"
   ]
  },
  {
   "cell_type": "code",
   "execution_count": 98,
   "id": "8a260406",
   "metadata": {},
   "outputs": [],
   "source": [
    "d={3:{\"dghddgh\",\"dgdfg\",4,5,6,7,8}}"
   ]
  },
  {
   "cell_type": "code",
   "execution_count": 99,
   "id": "4b663f2a",
   "metadata": {},
   "outputs": [
    {
     "data": {
      "text/plain": [
       "{3: {4, 5, 6, 7, 8, 'dgdfg', 'dghddgh'}}"
      ]
     },
     "execution_count": 99,
     "metadata": {},
     "output_type": "execute_result"
    }
   ],
   "source": [
    "d"
   ]
  },
  {
   "cell_type": "code",
   "execution_count": 100,
   "id": "0d9140e0",
   "metadata": {},
   "outputs": [],
   "source": [
    "d1={\"key1\":[2,3,4,5],\"key2\":\"sudh\",\"key1\":45}"
   ]
  },
  {
   "cell_type": "code",
   "execution_count": 101,
   "id": "b3704dec",
   "metadata": {},
   "outputs": [
    {
     "data": {
      "text/plain": [
       "{'key1': 45, 'key2': 'sudh'}"
      ]
     },
     "execution_count": 101,
     "metadata": {},
     "output_type": "execute_result"
    }
   ],
   "source": [
    "d1"
   ]
  },
  {
   "cell_type": "code",
   "execution_count": 102,
   "id": "5c5c5656",
   "metadata": {},
   "outputs": [
    {
     "data": {
      "text/plain": [
       "45"
      ]
     },
     "execution_count": 102,
     "metadata": {},
     "output_type": "execute_result"
    }
   ],
   "source": [
    "d1['key1']"
   ]
  },
  {
   "cell_type": "code",
   "execution_count": 103,
   "id": "b10e65aa",
   "metadata": {},
   "outputs": [],
   "source": [
    "d1={\"key1\":[2,3,4,5],\"key2\":\"sudh\",\"kumar\":45}"
   ]
  },
  {
   "cell_type": "code",
   "execution_count": 104,
   "id": "313d7f37",
   "metadata": {},
   "outputs": [
    {
     "data": {
      "text/plain": [
       "45"
      ]
     },
     "execution_count": 104,
     "metadata": {},
     "output_type": "execute_result"
    }
   ],
   "source": [
    "d1[\"kumar\"]"
   ]
  },
  {
   "cell_type": "code",
   "execution_count": 105,
   "id": "b6ca7dd6",
   "metadata": {},
   "outputs": [],
   "source": [
    "d3={\"+***\":\"venu\"}"
   ]
  },
  {
   "cell_type": "code",
   "execution_count": 106,
   "id": "74b44a2f",
   "metadata": {},
   "outputs": [
    {
     "data": {
      "text/plain": [
       "{'+***': 'venu'}"
      ]
     },
     "execution_count": 106,
     "metadata": {},
     "output_type": "execute_result"
    }
   ],
   "source": [
    "d3"
   ]
  },
  {
   "cell_type": "code",
   "execution_count": 107,
   "id": "03e4d98e",
   "metadata": {},
   "outputs": [],
   "source": [
    "d={\"name\":\"Devendra\",\"mo_num\":81881181818,\"mail_id\":\"singhdevendra@gmail.com\",\"keyy1\":[3,4,5,6],\"key2\":(2,3,4,5),\"key3\":{2,3,4,5,6,7},\"key4\":{1:3445,5:647}}"
   ]
  },
  {
   "cell_type": "code",
   "execution_count": 108,
   "id": "c94d35d2",
   "metadata": {},
   "outputs": [
    {
     "data": {
      "text/plain": [
       "{'name': 'Devendra',\n",
       " 'mo_num': 81881181818,\n",
       " 'mail_id': 'singhdevendra@gmail.com',\n",
       " 'keyy1': [3, 4, 5, 6],\n",
       " 'key2': (2, 3, 4, 5),\n",
       " 'key3': {2, 3, 4, 5, 6, 7},\n",
       " 'key4': {1: 3445, 5: 647}}"
      ]
     },
     "execution_count": 108,
     "metadata": {},
     "output_type": "execute_result"
    }
   ],
   "source": [
    "d"
   ]
  },
  {
   "cell_type": "code",
   "execution_count": 109,
   "id": "95d78b99",
   "metadata": {},
   "outputs": [
    {
     "data": {
      "text/plain": [
       "set"
      ]
     },
     "execution_count": 109,
     "metadata": {},
     "output_type": "execute_result"
    }
   ],
   "source": [
    "type(d[\"key3\"])"
   ]
  },
  {
   "cell_type": "code",
   "execution_count": 110,
   "id": "276eebc0",
   "metadata": {},
   "outputs": [
    {
     "data": {
      "text/plain": [
       "647"
      ]
     },
     "execution_count": 110,
     "metadata": {},
     "output_type": "execute_result"
    }
   ],
   "source": [
    "d[\"key4\"][5]"
   ]
  },
  {
   "cell_type": "code",
   "execution_count": 111,
   "id": "9dd4f702",
   "metadata": {},
   "outputs": [
    {
     "data": {
      "text/plain": [
       "{'name': 'Devendra',\n",
       " 'mo_num': 81881181818,\n",
       " 'mail_id': 'singhdevendra@gmail.com',\n",
       " 'keyy1': [3, 4, 5, 6],\n",
       " 'key2': (2, 3, 4, 5),\n",
       " 'key3': {2, 3, 4, 5, 6, 7},\n",
       " 'key4': {1: 3445, 5: 647}}"
      ]
     },
     "execution_count": 111,
     "metadata": {},
     "output_type": "execute_result"
    }
   ],
   "source": [
    "d\n"
   ]
  },
  {
   "cell_type": "code",
   "execution_count": 112,
   "id": "06c16efb",
   "metadata": {},
   "outputs": [
    {
     "data": {
      "text/plain": [
       "dict_keys(['name', 'mo_num', 'mail_id', 'keyy1', 'key2', 'key3', 'key4'])"
      ]
     },
     "execution_count": 112,
     "metadata": {},
     "output_type": "execute_result"
    }
   ],
   "source": [
    "d.keys()"
   ]
  },
  {
   "cell_type": "code",
   "execution_count": 113,
   "id": "e4e1d724",
   "metadata": {},
   "outputs": [
    {
     "data": {
      "text/plain": [
       "dict_values(['Devendra', 81881181818, 'singhdevendra@gmail.com', [3, 4, 5, 6], (2, 3, 4, 5), {2, 3, 4, 5, 6, 7}, {1: 3445, 5: 647}])"
      ]
     },
     "execution_count": 113,
     "metadata": {},
     "output_type": "execute_result"
    }
   ],
   "source": [
    "d.values()\n"
   ]
  },
  {
   "cell_type": "code",
   "execution_count": 114,
   "id": "eeb7d24f",
   "metadata": {},
   "outputs": [
    {
     "data": {
      "text/plain": [
       "dict_items"
      ]
     },
     "execution_count": 114,
     "metadata": {},
     "output_type": "execute_result"
    }
   ],
   "source": [
    "type(d.items())"
   ]
  },
  {
   "cell_type": "code",
   "execution_count": 115,
   "id": "ba1c5a60",
   "metadata": {},
   "outputs": [
    {
     "data": {
      "text/plain": [
       "dict_items([('name', 'Devendra'), ('mo_num', 81881181818), ('mail_id', 'singhdevendra@gmail.com'), ('keyy1', [3, 4, 5, 6]), ('key2', (2, 3, 4, 5)), ('key3', {2, 3, 4, 5, 6, 7}), ('key4', {1: 3445, 5: 647})])"
      ]
     },
     "execution_count": 115,
     "metadata": {},
     "output_type": "execute_result"
    }
   ],
   "source": [
    "d.items()"
   ]
  },
  {
   "cell_type": "code",
   "execution_count": 116,
   "id": "39c74355",
   "metadata": {},
   "outputs": [],
   "source": [
    "d={\"key1\":\"dev\",\"key2\":[1,2,3,4]}"
   ]
  },
  {
   "cell_type": "code",
   "execution_count": 117,
   "id": "6ef2b394",
   "metadata": {},
   "outputs": [
    {
     "data": {
      "text/plain": [
       "{'key1': 'dev', 'key2': [1, 2, 3, 4]}"
      ]
     },
     "execution_count": 117,
     "metadata": {},
     "output_type": "execute_result"
    }
   ],
   "source": [
    "d"
   ]
  },
  {
   "cell_type": "code",
   "execution_count": 118,
   "id": "77fad6d1",
   "metadata": {},
   "outputs": [],
   "source": [
    "d[\"key3\"]=\"kumar\""
   ]
  },
  {
   "cell_type": "code",
   "execution_count": 119,
   "id": "c6c89b86",
   "metadata": {},
   "outputs": [
    {
     "data": {
      "text/plain": [
       "{'key1': 'dev', 'key2': [1, 2, 3, 4], 'key3': 'kumar'}"
      ]
     },
     "execution_count": 119,
     "metadata": {},
     "output_type": "execute_result"
    }
   ],
   "source": [
    "d"
   ]
  },
  {
   "cell_type": "code",
   "execution_count": 120,
   "id": "c8b41b48",
   "metadata": {},
   "outputs": [],
   "source": [
    "d[4]=[2,3,4,5,6,7,8,9]"
   ]
  },
  {
   "cell_type": "code",
   "execution_count": 121,
   "id": "31426b51",
   "metadata": {},
   "outputs": [
    {
     "data": {
      "text/plain": [
       "{'key1': 'dev',\n",
       " 'key2': [1, 2, 3, 4],\n",
       " 'key3': 'kumar',\n",
       " 4: [2, 3, 4, 5, 6, 7, 8, 9]}"
      ]
     },
     "execution_count": 121,
     "metadata": {},
     "output_type": "execute_result"
    }
   ],
   "source": [
    "d"
   ]
  },
  {
   "cell_type": "code",
   "execution_count": 122,
   "id": "6d61bd7a",
   "metadata": {},
   "outputs": [],
   "source": [
    "d[\"key1\"]=\"ghdsghdg\""
   ]
  },
  {
   "cell_type": "code",
   "execution_count": 123,
   "id": "d196babe",
   "metadata": {},
   "outputs": [
    {
     "data": {
      "text/plain": [
       "{'key1': 'ghdsghdg',\n",
       " 'key2': [1, 2, 3, 4],\n",
       " 'key3': 'kumar',\n",
       " 4: [2, 3, 4, 5, 6, 7, 8, 9]}"
      ]
     },
     "execution_count": 123,
     "metadata": {},
     "output_type": "execute_result"
    }
   ],
   "source": [
    "d"
   ]
  },
  {
   "cell_type": "code",
   "execution_count": 124,
   "id": "c0047d32",
   "metadata": {},
   "outputs": [],
   "source": [
    "del d[\"key1\"]"
   ]
  },
  {
   "cell_type": "code",
   "execution_count": 125,
   "id": "63e78b5f",
   "metadata": {},
   "outputs": [
    {
     "data": {
      "text/plain": [
       "{'key2': [1, 2, 3, 4], 'key3': 'kumar', 4: [2, 3, 4, 5, 6, 7, 8, 9]}"
      ]
     },
     "execution_count": 125,
     "metadata": {},
     "output_type": "execute_result"
    }
   ],
   "source": [
    "d"
   ]
  },
  {
   "cell_type": "code",
   "execution_count": 126,
   "id": "b9c7c933",
   "metadata": {},
   "outputs": [],
   "source": [
    "del d"
   ]
  },
  {
   "cell_type": "code",
   "execution_count": 127,
   "id": "a0474570",
   "metadata": {},
   "outputs": [
    {
     "ename": "NameError",
     "evalue": "name 'd' is not defined",
     "output_type": "error",
     "traceback": [
      "\u001b[1;31m---------------------------------------------------------------------------\u001b[0m",
      "\u001b[1;31mNameError\u001b[0m                                 Traceback (most recent call last)",
      "Input \u001b[1;32mIn [127]\u001b[0m, in \u001b[0;36m<cell line: 1>\u001b[1;34m()\u001b[0m\n\u001b[1;32m----> 1\u001b[0m \u001b[43md\u001b[49m\n",
      "\u001b[1;31mNameError\u001b[0m: name 'd' is not defined"
     ]
    }
   ],
   "source": [
    "d"
   ]
  },
  {
   "cell_type": "code",
   "execution_count": 128,
   "id": "408a019c",
   "metadata": {},
   "outputs": [],
   "source": [
    "d1 = {\"key1\":\"dev\",\"key2\":[4,5,6,7,8]}"
   ]
  },
  {
   "cell_type": "code",
   "execution_count": 129,
   "id": "e422c8cf",
   "metadata": {},
   "outputs": [
    {
     "data": {
      "text/plain": [
       "{'key1': 'dev', 'key2': [4, 5, 6, 7, 8]}"
      ]
     },
     "execution_count": 129,
     "metadata": {},
     "output_type": "execute_result"
    }
   ],
   "source": [
    "d1"
   ]
  },
  {
   "cell_type": "code",
   "execution_count": 130,
   "id": "01c0be19",
   "metadata": {},
   "outputs": [
    {
     "ename": "TypeError",
     "evalue": "unhashable type: 'list'",
     "output_type": "error",
     "traceback": [
      "\u001b[1;31m---------------------------------------------------------------------------\u001b[0m",
      "\u001b[1;31mTypeError\u001b[0m                                 Traceback (most recent call last)",
      "Input \u001b[1;32mIn [130]\u001b[0m, in \u001b[0;36m<cell line: 1>\u001b[1;34m()\u001b[0m\n\u001b[1;32m----> 1\u001b[0m d1[[\u001b[38;5;241m2\u001b[39m,\u001b[38;5;241m3\u001b[39m,\u001b[38;5;241m4\u001b[39m,]]\u001b[38;5;241m=\u001b[39m\u001b[38;5;124m\"\u001b[39m\u001b[38;5;124mineuron\u001b[39m\u001b[38;5;124m\"\u001b[39m\n",
      "\u001b[1;31mTypeError\u001b[0m: unhashable type: 'list'"
     ]
    }
   ],
   "source": [
    "d1[[2,3,4,]]=\"ineuron\""
   ]
  },
  {
   "cell_type": "code",
   "execution_count": 131,
   "id": "de643e4a",
   "metadata": {},
   "outputs": [],
   "source": [
    "d1[(2,3,4)]=\"ineuron\""
   ]
  },
  {
   "cell_type": "code",
   "execution_count": 132,
   "id": "e071b1ec",
   "metadata": {},
   "outputs": [
    {
     "data": {
      "text/plain": [
       "{'key1': 'dev', 'key2': [4, 5, 6, 7, 8], (2, 3, 4): 'ineuron'}"
      ]
     },
     "execution_count": 132,
     "metadata": {},
     "output_type": "execute_result"
    }
   ],
   "source": [
    "d1"
   ]
  },
  {
   "cell_type": "code",
   "execution_count": 133,
   "id": "48e111f2",
   "metadata": {},
   "outputs": [
    {
     "data": {
      "text/plain": [
       "'dev'"
      ]
     },
     "execution_count": 133,
     "metadata": {},
     "output_type": "execute_result"
    }
   ],
   "source": [
    "d1.get(\"key1\")"
   ]
  },
  {
   "cell_type": "code",
   "execution_count": 134,
   "id": "bb7d5997",
   "metadata": {},
   "outputs": [],
   "source": [
    "d1={\"key1\":\"ineuron\",\"key\":\"FSDS\"}"
   ]
  },
  {
   "cell_type": "code",
   "execution_count": 135,
   "id": "2646c4ce",
   "metadata": {},
   "outputs": [],
   "source": [
    "d2={\"key2\":456,\"key3\":[1,2,3,4,5]}"
   ]
  },
  {
   "cell_type": "code",
   "execution_count": 136,
   "id": "1ae6246a",
   "metadata": {},
   "outputs": [],
   "source": [
    "d1.update(d2)"
   ]
  },
  {
   "cell_type": "code",
   "execution_count": 137,
   "id": "46b13270",
   "metadata": {},
   "outputs": [
    {
     "data": {
      "text/plain": [
       "{'key1': 'ineuron', 'key': 'FSDS', 'key2': 456, 'key3': [1, 2, 3, 4, 5]}"
      ]
     },
     "execution_count": 137,
     "metadata": {},
     "output_type": "execute_result"
    }
   ],
   "source": [
    "d1"
   ]
  },
  {
   "cell_type": "code",
   "execution_count": 138,
   "id": "ad3f5b94",
   "metadata": {},
   "outputs": [
    {
     "ename": "TypeError",
     "evalue": "unsupported operand type(s) for +: 'dict' and 'dict'",
     "output_type": "error",
     "traceback": [
      "\u001b[1;31m---------------------------------------------------------------------------\u001b[0m",
      "\u001b[1;31mTypeError\u001b[0m                                 Traceback (most recent call last)",
      "Input \u001b[1;32mIn [138]\u001b[0m, in \u001b[0;36m<cell line: 1>\u001b[1;34m()\u001b[0m\n\u001b[1;32m----> 1\u001b[0m \u001b[43md1\u001b[49m\u001b[38;5;241;43m+\u001b[39;49m\u001b[43md2\u001b[49m\n",
      "\u001b[1;31mTypeError\u001b[0m: unsupported operand type(s) for +: 'dict' and 'dict'"
     ]
    }
   ],
   "source": [
    "d1+d2"
   ]
  },
  {
   "cell_type": "code",
   "execution_count": 139,
   "id": "04807e86",
   "metadata": {},
   "outputs": [],
   "source": [
    "l=[2,3,4,5,55]\n",
    "l.append(1)"
   ]
  },
  {
   "cell_type": "code",
   "execution_count": 140,
   "id": "2d690ed2",
   "metadata": {},
   "outputs": [
    {
     "data": {
      "text/plain": [
       "[2, 3, 4, 5, 55, 1]"
      ]
     },
     "execution_count": 140,
     "metadata": {},
     "output_type": "execute_result"
    }
   ],
   "source": [
    "l"
   ]
  },
  {
   "cell_type": "code",
   "execution_count": 141,
   "id": "c8a28516",
   "metadata": {},
   "outputs": [
    {
     "data": {
      "text/plain": [
       "{'key1': 'ineuron', 'key': 'FSDS', 'key2': 456, 'key3': [1, 2, 3, 4, 5]}"
      ]
     },
     "execution_count": 141,
     "metadata": {},
     "output_type": "execute_result"
    }
   ],
   "source": [
    "d1"
   ]
  },
  {
   "cell_type": "code",
   "execution_count": 142,
   "id": "057f0f98",
   "metadata": {},
   "outputs": [
    {
     "data": {
      "text/plain": [
       "{'key2': 456, 'key3': [1, 2, 3, 4, 5]}"
      ]
     },
     "execution_count": 142,
     "metadata": {},
     "output_type": "execute_result"
    }
   ],
   "source": [
    "d2"
   ]
  },
  {
   "cell_type": "code",
   "execution_count": 143,
   "id": "ba4e6173",
   "metadata": {},
   "outputs": [
    {
     "data": {
      "text/plain": [
       "'ineuron'"
      ]
     },
     "execution_count": 143,
     "metadata": {},
     "output_type": "execute_result"
    }
   ],
   "source": [
    "d1[\"key1\"]"
   ]
  },
  {
   "cell_type": "code",
   "execution_count": 144,
   "id": "d7ab934c",
   "metadata": {},
   "outputs": [],
   "source": [
    "key=(\"name\",\"mo_num\",\"mail_id\")\n",
    "value=\"Devendra\""
   ]
  },
  {
   "cell_type": "code",
   "execution_count": 146,
   "id": "fcd7b568",
   "metadata": {},
   "outputs": [],
   "source": [
    "d=d1.fromkeys(key,value)"
   ]
  },
  {
   "cell_type": "code",
   "execution_count": 147,
   "id": "8ad74077",
   "metadata": {},
   "outputs": [
    {
     "data": {
      "text/plain": [
       "{'name': 'Devendra', 'mo_num': 'Devendra', 'mail_id': 'Devendra'}"
      ]
     },
     "execution_count": 147,
     "metadata": {},
     "output_type": "execute_result"
    }
   ],
   "source": [
    "d"
   ]
  },
  {
   "cell_type": "code",
   "execution_count": null,
   "id": "5950a248",
   "metadata": {},
   "outputs": [],
   "source": []
  }
 ],
 "metadata": {
  "kernelspec": {
   "display_name": "Python 3 (ipykernel)",
   "language": "python",
   "name": "python3"
  },
  "language_info": {
   "codemirror_mode": {
    "name": "ipython",
    "version": 3
   },
   "file_extension": ".py",
   "mimetype": "text/x-python",
   "name": "python",
   "nbconvert_exporter": "python",
   "pygments_lexer": "ipython3",
   "version": "3.9.12"
  }
 },
 "nbformat": 4,
 "nbformat_minor": 5
}
